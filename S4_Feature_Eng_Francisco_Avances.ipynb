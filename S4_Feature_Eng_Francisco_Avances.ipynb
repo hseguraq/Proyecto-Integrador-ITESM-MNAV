{
  "nbformat": 4,
  "nbformat_minor": 0,
  "metadata": {
    "colab": {
      "provenance": [],
      "include_colab_link": true
    },
    "kernelspec": {
      "name": "python3",
      "display_name": "Python 3"
    },
    "language_info": {
      "name": "python"
    }
  },
  "cells": [
    {
      "cell_type": "markdown",
      "metadata": {
        "id": "view-in-github",
        "colab_type": "text"
      },
      "source": [
        "<a href=\"https://colab.research.google.com/github/hseguraq/Proyecto-Integrador-ITESM-MNAV/blob/main/S4_Feature_Eng_Francisco_Avances.ipynb\" target=\"_parent\"><img src=\"https://colab.research.google.com/assets/colab-badge.svg\" alt=\"Open In Colab\"/></a>"
      ]
    },
    {
      "cell_type": "markdown",
      "source": [
        "# **Ingeniería de Características**\n",
        "# **Radiografías de Tórax**\n",
        "## ITESM - MNA V\n",
        "\n",
        "## Proyecto Integrador - TC5035.10\n",
        "\n",
        "## Profesora: Dra. Grettel Barceló Alonso\n",
        "\n",
        "\n",
        "### Equipo 19\n",
        "\n",
        "Héctor Segura Quintanilla (A01154108)\n",
        "\n",
        "Julio César García Escoto (A01795050)\n",
        "\n",
        "Francisco Medellín Zertuche (A01794044)\n"
      ],
      "metadata": {
        "id": "UXWo04_mn71r"
      }
    },
    {
      "cell_type": "code",
      "source": [
        "!pip install ImageHash\n",
        "\n",
        "import os\n",
        "import numpy as np\n",
        "import pandas as pd\n",
        "import matplotlib.pyplot as plt\n",
        "import seaborn as sns\n",
        "from glob import glob\n",
        "from PIL import Image\n",
        "from collections import Counter\n",
        "from tqdm import tqdm\n",
        "\n",
        "import cv2\n",
        "import torchvision.transforms as transforms\n",
        "import torchvision.datasets as datasets\n",
        "from torchvision import models\n",
        "import torch\n",
        "from sklearn.decomposition import PCA\n",
        "from sklearn.manifold import TSNE\n",
        "import imagehash\n"
      ],
      "metadata": {
        "colab": {
          "base_uri": "https://localhost:8080/"
        },
        "id": "qMlG8YLMvFUV",
        "outputId": "9e8e68f6-7b31-4623-94f1-b570c47ea1cf"
      },
      "execution_count": 1,
      "outputs": [
        {
          "output_type": "stream",
          "name": "stdout",
          "text": [
            "Collecting ImageHash\n",
            "  Downloading ImageHash-4.3.2-py2.py3-none-any.whl.metadata (8.4 kB)\n",
            "Requirement already satisfied: PyWavelets in /usr/local/lib/python3.12/dist-packages (from ImageHash) (1.9.0)\n",
            "Requirement already satisfied: numpy in /usr/local/lib/python3.12/dist-packages (from ImageHash) (2.0.2)\n",
            "Requirement already satisfied: pillow in /usr/local/lib/python3.12/dist-packages (from ImageHash) (11.3.0)\n",
            "Requirement already satisfied: scipy in /usr/local/lib/python3.12/dist-packages (from ImageHash) (1.16.2)\n",
            "Downloading ImageHash-4.3.2-py2.py3-none-any.whl (296 kB)\n",
            "\u001b[2K   \u001b[90m━━━━━━━━━━━━━━━━━━━━━━━━━━━━━━━━━━━━━━━━\u001b[0m \u001b[32m296.7/296.7 kB\u001b[0m \u001b[31m11.4 MB/s\u001b[0m eta \u001b[36m0:00:00\u001b[0m\n",
            "\u001b[?25hInstalling collected packages: ImageHash\n",
            "Successfully installed ImageHash-4.3.2\n"
          ]
        }
      ]
    },
    {
      "cell_type": "code",
      "source": [
        "from google.colab import drive\n",
        "drive.mount('/content/drive')"
      ],
      "metadata": {
        "colab": {
          "base_uri": "https://localhost:8080/"
        },
        "id": "nQWiFgeVvIj-",
        "outputId": "0bde111c-4911-4905-9e15-37060e601e80"
      },
      "execution_count": 3,
      "outputs": [
        {
          "output_type": "stream",
          "name": "stdout",
          "text": [
            "Mounted at /content/drive\n"
          ]
        }
      ]
    },
    {
      "cell_type": "code",
      "source": [
        "data_dir = \"/content/drive/MyDrive/CARDIOS - PROYECTO INTEGRADOR/Datos\"\n",
        "class_names = sorted(os.listdir(data_dir))\n",
        "print(\"Clases encontradas:\", class_names)\n",
        "\n",
        "image_paths = []\n",
        "labels = []\n",
        "\n",
        "for class_name in class_names:\n",
        "    class_dir = os.path.join(data_dir, class_name)\n",
        "    for img_file in os.listdir(class_dir):\n",
        "        image_paths.append(os.path.join(class_dir, img_file))\n",
        "        labels.append(class_name)\n",
        "\n",
        "df = pd.DataFrame({\n",
        "    'image_path': image_paths,\n",
        "    'label': labels\n",
        "})"
      ],
      "metadata": {
        "colab": {
          "base_uri": "https://localhost:8080/"
        },
        "id": "Uo--ZqecvJS1",
        "outputId": "58fc7e9c-b2bc-479a-9951-1952a26318be"
      },
      "execution_count": 4,
      "outputs": [
        {
          "output_type": "stream",
          "name": "stdout",
          "text": [
            "Clases encontradas: ['ASD', 'Normal', 'PDA', 'VSD']\n"
          ]
        }
      ]
    },
    {
      "cell_type": "code",
      "source": [],
      "metadata": {
        "id": "iMRLVQhZvJYx"
      },
      "execution_count": null,
      "outputs": []
    },
    {
      "cell_type": "markdown",
      "source": [
        "## Héctor\n",
        "\n",
        "1. Preprocesamiento de imágenes (Data Preparation)\n",
        "Normalización de intensidades (ej. rescale [0,1], z-score).\n",
        "* Alineación o centrado anatómico si aplica.\n",
        "* Técnicas de reducción de ruido.\n",
        "* Segmentación o recorte a regiones de interés (ROI).\n",
        "* Generación de versiones estandarizadas (ej. redimensionado a 224×224).\n",
        "\n"
      ],
      "metadata": {
        "id": "-n1HSsB2tUdJ"
      }
    },
    {
      "cell_type": "code",
      "source": [],
      "metadata": {
        "id": "cXymqD_ZuMSf"
      },
      "execution_count": null,
      "outputs": []
    },
    {
      "cell_type": "markdown",
      "source": [
        "\n",
        "## Héctor\n",
        "\n",
        "2. Ingeniería de características (Feature Engineering)\n",
        "* Transformaciones clásicas: extracción de bordes, filtros de textura, HOG, LBP.\n",
        "* Características estadísticas: media, varianza, entropía de píxeles, etc.\n",
        "* Métodos de reducción de dimensionalidad (PCA, t-SNE, UMAP para inspección).\n",
        "* Comparación de representaciones crudas vs. representaciones profundas."
      ],
      "metadata": {
        "id": "GmW-RVJmtfaF"
      }
    },
    {
      "cell_type": "code",
      "source": [],
      "metadata": {
        "id": "s_gLJNZCuMoH"
      },
      "execution_count": null,
      "outputs": []
    },
    {
      "cell_type": "markdown",
      "source": [
        "## Francisco\n",
        "\n",
        "3. Generación de nuevas variables (Feature Construction)\n",
        "* Combinación de características (ejemplo: cocientes de intensidades, índices de contraste).\n",
        "* Features derivados de máscaras de segmentación (ejemplo: proporción área de pulmón/área total).\n",
        "* Indicadores binarios (ejemplo: presencia/ausencia de ciertas estructuras)."
      ],
      "metadata": {
        "id": "F-AEtE4Kt01c"
      }
    },
    {
      "cell_type": "code",
      "source": [],
      "metadata": {
        "id": "TdyeQebKuNC1"
      },
      "execution_count": null,
      "outputs": []
    },
    {
      "cell_type": "markdown",
      "source": [
        "## Francisco - Investigar si esto se puede hacer antes de la creacion de la red neuronal\n",
        "\n",
        "4. Evaluación de la calidad de las características (Feature Evaluation)\n",
        "* Métricas de separabilidad (ej. ANOVA F-score, mutual information entre características y etiquetas).\n",
        "* Importancia de características en modelos de prueba rápida (árboles de decisión, random forest).\n",
        "* Visualización en 2D de embeddings para verificar separabilidad entre clases."
      ],
      "metadata": {
        "id": "Bh186woUt2fr"
      }
    },
    {
      "cell_type": "code",
      "source": [],
      "metadata": {
        "id": "bDqKAyHjuNXp"
      },
      "execution_count": null,
      "outputs": []
    },
    {
      "cell_type": "markdown",
      "source": [
        "5. Preparación de dataset final (Data Preparation for Modeling)\n",
        "* Ensamblaje del conjunto de datos con las características seleccionadas.\n",
        "* División en train/val/test.\n",
        "* Guardado de los features en un formato reproducible (ej. CSV, parquet, HDF5)."
      ],
      "metadata": {
        "id": "BE-E6dBCuAGg"
      }
    },
    {
      "cell_type": "code",
      "source": [],
      "metadata": {
        "id": "f_jR471KuNxd"
      },
      "execution_count": null,
      "outputs": []
    },
    {
      "cell_type": "markdown",
      "source": [
        "6. Documentación y trazabilidad (Quality & Reproducibility)\n",
        "* Registro de parámetros aplicados en cada paso.\n",
        "* Versionado de datos procesados.\n",
        "* Notas sobre decisiones tomadas y limitaciones observadas."
      ],
      "metadata": {
        "id": "w63xPpvWuExA"
      }
    },
    {
      "cell_type": "code",
      "source": [],
      "metadata": {
        "id": "BNrSlXY5uOIe"
      },
      "execution_count": null,
      "outputs": []
    }
  ]
}